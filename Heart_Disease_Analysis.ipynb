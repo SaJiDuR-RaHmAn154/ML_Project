{
 "cells": [
  {
   "cell_type": "markdown",
   "id": "bd1bb16c",
   "metadata": {},
   "source": [
    "# Heart Disease Prediction Model Training\n"
   ]
  },
  {
   "cell_type": "code",
   "execution_count": 31,
   "id": "9d783533",
   "metadata": {},
   "outputs": [
    {
     "name": "stdout",
     "output_type": "stream",
     "text": [
      "Libraries imported successfully\n"
     ]
    }
   ],
   "source": [
    "# Import necessary libraries\n",
    "import pandas as pd\n",
    "import numpy as np\n",
    "import warnings\n",
    "import os\n",
    "\n",
    "from sklearn.model_selection import train_test_split\n",
    "from sklearn.ensemble import RandomForestClassifier\n",
    "from sklearn.tree import DecisionTreeClassifier\n",
    "from sklearn.linear_model import LogisticRegression\n",
    "from sklearn.metrics import accuracy_score\n",
    "from sklearn.preprocessing import StandardScaler\n",
    "\n",
    "import pickle\n",
    "\n",
    "# Configure environment\n",
    "warnings.filterwarnings('ignore')\n",
    "\n",
    "print(\"Libraries imported successfully\")"
   ]
  },
  {
   "cell_type": "markdown",
   "id": "487a3deb",
   "metadata": {},
   "source": [
    "## Data Loading"
   ]
  },
  {
   "cell_type": "code",
   "execution_count": 32,
   "id": "c65e6c00",
   "metadata": {},
   "outputs": [
    {
     "name": "stdout",
     "output_type": "stream",
     "text": [
      "Dataset loaded: 270 samples, 14 features\n",
      "Data loading complete\n"
     ]
    }
   ],
   "source": [
    "# Load the heart disease dataset\n",
    "df = pd.read_csv('Heart_Disease_Prediction.csv')\n",
    "\n",
    "print(f\"Dataset loaded: {df.shape[0]} samples, {df.shape[1]} features\")\n",
    "print(\"Data loading complete\")"
   ]
  },
  {
   "cell_type": "code",
   "execution_count": 33,
   "id": "f36248b1",
   "metadata": {},
   "outputs": [
    {
     "name": "stdout",
     "output_type": "stream",
     "text": [
      "Duplicate rows found: 0\n",
      "Data quality check complete\n"
     ]
    }
   ],
   "source": [
    "# Basic data quality check\n",
    "duplicates = df.duplicated().sum()\n",
    "print(f\"Duplicate rows found: {duplicates}\")\n",
    "print(\"Data quality check complete\")"
   ]
  },
  {
   "cell_type": "markdown",
   "id": "94e05823",
   "metadata": {},
   "source": [
    "## Data Preprocessing\n"
   ]
  },
  {
   "cell_type": "code",
   "execution_count": 34,
   "id": "dd3de783",
   "metadata": {},
   "outputs": [
    {
     "name": "stdout",
     "output_type": "stream",
     "text": [
      "Data Preprocessing...\n",
      "Features: (270, 13)\n",
      "Target distribution - Absence: 150, Presence: 120\n",
      "Data preprocessing complete\n"
     ]
    }
   ],
   "source": [
    "# Data preprocessing\n",
    "print(\"Data Preprocessing...\")\n",
    "\n",
    "# Separate features and target\n",
    "X = df.iloc[:, :-1]  # Features\n",
    "y = df.iloc[:, -1]   # Target\n",
    "\n",
    "# Clean target values - remove extra spaces and standardize\n",
    "y_cleaned = y.str.strip()\n",
    "\n",
    "# Convert target to binary encoding\n",
    "y_binary = (y_cleaned == 'Presence').astype(int)\n",
    "\n",
    "print(f\"Features: {X.shape}\")\n",
    "print(f\"Target distribution - Absence: {(y_binary == 0).sum()}, Presence: {(y_binary == 1).sum()}\")\n",
    "print(\"Data preprocessing complete\")"
   ]
  },
  {
   "cell_type": "code",
   "execution_count": 35,
   "id": "8f9d52db",
   "metadata": {},
   "outputs": [
    {
     "name": "stdout",
     "output_type": "stream",
     "text": [
      "Splitting data and scaling features...\n",
      "Training set: 216 samples\n",
      "Test set: 54 samples\n",
      "Data split and scaling complete\n"
     ]
    }
   ],
   "source": [
    "# Train-Test Split and Feature Scaling\n",
    "print(\"Splitting data and scaling features...\")\n",
    "\n",
    "# Split the data (80% train, 20% test)\n",
    "X_train, X_test, y_train, y_test = train_test_split(\n",
    "    X, y_binary, \n",
    "    test_size=0.2, \n",
    "    random_state=42, \n",
    "    stratify=y_binary\n",
    ")\n",
    "\n",
    "# Feature Scaling\n",
    "scaler = StandardScaler()\n",
    "X_train_scaled = scaler.fit_transform(X_train)\n",
    "X_test_scaled = scaler.transform(X_test)\n",
    "\n",
    "print(f\"Training set: {X_train.shape[0]} samples\")\n",
    "print(f\"Test set: {X_test.shape[0]} samples\")\n",
    "print(\"Data split and scaling complete\")"
   ]
  },
  {
   "cell_type": "markdown",
   "id": "2a7e4f67",
   "metadata": {},
   "source": [
    "## ML Models Implementation\n"
   ]
  },
  {
   "cell_type": "code",
   "execution_count": 36,
   "id": "579a2f07",
   "metadata": {},
   "outputs": [
    {
     "name": "stdout",
     "output_type": "stream",
     "text": [
      "Training Random Forest Classifier...\n",
      "Random Forest - Test Accuracy: 0.8333 (83.33%)\n"
     ]
    }
   ],
   "source": [
    "# Random Forest Classifier\n",
    "print(\"Training Random Forest Classifier...\")\n",
    "\n",
    "rf_model = RandomForestClassifier(\n",
    "    n_estimators=100,\n",
    "    random_state=42,\n",
    "    max_depth=10,\n",
    "    min_samples_split=5,\n",
    "    min_samples_leaf=2\n",
    ")\n",
    "\n",
    "rf_model.fit(X_train, y_train)\n",
    "rf_predictions = rf_model.predict(X_test)\n",
    "rf_accuracy = accuracy_score(y_test, rf_predictions)\n",
    "\n",
    "print(f\"Random Forest - Test Accuracy: {rf_accuracy:.4f} ({rf_accuracy*100:.2f}%)\")"
   ]
  },
  {
   "cell_type": "code",
   "execution_count": 37,
   "id": "1bfbab4b",
   "metadata": {},
   "outputs": [
    {
     "name": "stdout",
     "output_type": "stream",
     "text": [
      "Training Decision Tree Classifier...\n",
      "Decision Tree - Test Accuracy: 0.7963 (79.63%)\n"
     ]
    }
   ],
   "source": [
    "# Decision Tree Classifier\n",
    "print(\"Training Decision Tree Classifier...\")\n",
    "\n",
    "dt_model = DecisionTreeClassifier(\n",
    "    random_state=42,\n",
    "    max_depth=8,\n",
    "    min_samples_split=10,\n",
    "    min_samples_leaf=5,\n",
    "    criterion='gini'\n",
    ")\n",
    "\n",
    "dt_model.fit(X_train, y_train)\n",
    "dt_predictions = dt_model.predict(X_test)\n",
    "dt_accuracy = accuracy_score(y_test, dt_predictions)\n",
    "\n",
    "print(f\"Decision Tree - Test Accuracy: {dt_accuracy:.4f} ({dt_accuracy*100:.2f}%)\")"
   ]
  },
  {
   "cell_type": "code",
   "execution_count": 38,
   "id": "2567be97",
   "metadata": {},
   "outputs": [
    {
     "name": "stdout",
     "output_type": "stream",
     "text": [
      "Training Logistic Regression...\n",
      "Logistic Regression - Test Accuracy: 0.8519 (85.19%)\n"
     ]
    }
   ],
   "source": [
    "# Logistic Regression\n",
    "print(\"Training Logistic Regression...\")\n",
    "\n",
    "lr_model = LogisticRegression(\n",
    "    random_state=42,\n",
    "    max_iter=1000,\n",
    "    C=1.0,\n",
    "    solver='liblinear'\n",
    ")\n",
    "\n",
    "lr_model.fit(X_train_scaled, y_train)\n",
    "lr_predictions = lr_model.predict(X_test_scaled)\n",
    "lr_accuracy = accuracy_score(y_test, lr_predictions)\n",
    "\n",
    "print(f\"Logistic Regression - Test Accuracy: {lr_accuracy:.4f} ({lr_accuracy*100:.2f}%)\")\n",
    "\n"
   ]
  },
  {
   "cell_type": "markdown",
   "id": "2e6eee68",
   "metadata": {},
   "source": [
    "## Model Comparison and Evaluation"
   ]
  },
  {
   "cell_type": "code",
   "execution_count": 39,
   "id": "c44344be",
   "metadata": {},
   "outputs": [
    {
     "name": "stdout",
     "output_type": "stream",
     "text": [
      "Model Selection\n",
      "====================\n",
      "Model Accuracies:\n",
      "  Random Forest: 0.8333\n",
      "  Decision Tree: 0.7963\n",
      "  Logistic Regression: 0.8519\n",
      "\n",
      "Best Model: Logistic Regression\n",
      "Best Accuracy: 0.8519\n"
     ]
    }
   ],
   "source": [
    "# Model Selection\n",
    "print(\"Model Selection\")\n",
    "print(\"=\" * 20)\n",
    "\n",
    "# Compare model accuracies\n",
    "models_data = {\n",
    "    'Random Forest': {'model': rf_model, 'accuracy': rf_accuracy, 'scaled_features': False},\n",
    "    'Decision Tree': {'model': dt_model, 'accuracy': dt_accuracy, 'scaled_features': False},\n",
    "    'Logistic Regression': {'model': lr_model, 'accuracy': lr_accuracy, 'scaled_features': True}\n",
    "}\n",
    "\n",
    "# Select best model based on accuracy\n",
    "best_model_name = max(models_data.keys(), key=lambda x: models_data[x]['accuracy'])\n",
    "best_model_data = models_data[best_model_name]\n",
    "\n",
    "print(f\"Model Accuracies:\")\n",
    "for name, data in models_data.items():\n",
    "    print(f\"  {name}: {data['accuracy']:.4f}\")\n",
    "\n",
    "print(f\"\\nBest Model: {best_model_name}\")\n",
    "print(f\"Best Accuracy: {best_model_data['accuracy']:.4f}\")"
   ]
  },
  {
   "cell_type": "markdown",
   "id": "2b495f24",
   "metadata": {},
   "source": [
    "## Model Deployment"
   ]
  },
  {
   "cell_type": "code",
   "execution_count": 40,
   "id": "a88c4619",
   "metadata": {},
   "outputs": [
    {
     "name": "stdout",
     "output_type": "stream",
     "text": [
      "Model Deployment\n",
      "====================\n",
      "Model training complete!\n",
      "Best Model: Logistic Regression (Accuracy: 0.8519)\n",
      "All models and metadata saved to Frontend/ directory\n"
     ]
    }
   ],
   "source": [
    "# Save the best performing model\n",
    "print(\"Model Deployment\")\n",
    "print(\"=\" * 20)\n",
    "\n",
    "# Save the best model\n",
    "best_model = best_model_data['model']\n",
    "with open(\"Frontend/heartdiseaseprediction.model\", \"wb\") as f:\n",
    "    pickle.dump(best_model, f)\n",
    "\n",
    "# Save the scaler\n",
    "with open(\"Frontend/scaler.model\", \"wb\") as f:\n",
    "    pickle.dump(scaler, f)\n",
    "\n",
    "# Save model metadata\n",
    "model_info = {\n",
    "    'best_model_name': best_model_name,\n",
    "    'best_model_accuracy': best_model_data['accuracy'],\n",
    "    'features': list(X.columns),\n",
    "    'target_encoding': {'Absence': 0, 'Presence': 1},\n",
    "    'training_date': pd.Timestamp.now().strftime('%Y-%m-%d %H:%M:%S'),\n",
    "    'requires_scaling': best_model_data['scaled_features']\n",
    "}\n",
    "\n",
    "with open(\"Frontend/model_info.pkl\", \"wb\") as f:\n",
    "    pickle.dump(model_info, f)\n",
    "\n",
    "print(f\"Model training complete!\")\n",
    "print(f\"Best Model: {best_model_name} (Accuracy: {best_model_data['accuracy']:.4f})\")\n",
    "print(\"All models and metadata saved to Frontend/ directory\")"
   ]
  }
 ],
 "metadata": {
  "kernelspec": {
   "display_name": "venv",
   "language": "python",
   "name": "python3"
  },
  "language_info": {
   "codemirror_mode": {
    "name": "ipython",
    "version": 3
   },
   "file_extension": ".py",
   "mimetype": "text/x-python",
   "name": "python",
   "nbconvert_exporter": "python",
   "pygments_lexer": "ipython3",
   "version": "3.13.3"
  }
 },
 "nbformat": 4,
 "nbformat_minor": 5
}
